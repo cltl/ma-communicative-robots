{
 "cells": [
  {
   "cell_type": "code",
   "execution_count": 10,
   "id": "83699b3e",
   "metadata": {},
   "outputs": [],
   "source": [
    "import json\n",
    "from glob import glob\n",
    "from tqdm.notebook import tqdm\n",
    "import os\n",
    "import random\n",
    "\n",
    "def read_json(path):\n",
    "    \"\"\"Read json file.\n",
    "    \n",
    "    Args\n",
    "    ----\n",
    "    path: path to the json\n",
    "\n",
    "    Returns\n",
    "    -------\n",
    "    loaded: loaded dict\n",
    "    \n",
    "    \"\"\"\n",
    "    with open(path, 'r') as stream:\n",
    "        loaded = json.load(stream)\n",
    "\n",
    "    return loaded"
   ]
  },
  {
   "cell_type": "code",
   "execution_count": 26,
   "id": "d1329301",
   "metadata": {},
   "outputs": [
    {
     "data": {
      "application/vnd.jupyter.widget-view+json": {
       "model_id": "87b7bda05984412a9fef372b554d98ba",
       "version_major": 2,
       "version_minor": 0
      },
      "text/plain": [
       "  0%|          | 0/7 [00:00<?, ?it/s]"
      ]
     },
     "metadata": {},
     "output_type": "display_data"
    }
   ],
   "source": [
    "train_data = []\n",
    "val_data = []\n",
    "test_data = []\n",
    "for path in tqdm(glob(\"./data/*.json\")):\n",
    "    data = read_json(path)\n",
    "    for train, val, test in zip(data['train'],data['val'], data['test']):\n",
    "        train_data.append(train)\n",
    "        val_data.append(val)\n",
    "        test_data.append(test)"
   ]
  },
  {
   "cell_type": "code",
   "execution_count": 18,
   "id": "29b930af",
   "metadata": {},
   "outputs": [],
   "source": [
    "with open('train_data_together.json', 'w') as f:\n",
    "    json.dump(train_data, f)"
   ]
  },
  {
   "cell_type": "code",
   "execution_count": 31,
   "id": "b66a180d",
   "metadata": {},
   "outputs": [],
   "source": [
    "with open('val_data_together.json', 'w') as f:\n",
    "    json.dump(val_data, f)"
   ]
  },
  {
   "cell_type": "code",
   "execution_count": 32,
   "id": "40a26b75",
   "metadata": {},
   "outputs": [],
   "source": [
    "with open('test_data_together.json', 'w') as f:\n",
    "    json.dump(test_data, f)"
   ]
  }
 ],
 "metadata": {
  "kernelspec": {
   "display_name": "Python 3",
   "language": "python",
   "name": "python3"
  },
  "language_info": {
   "codemirror_mode": {
    "name": "ipython",
    "version": 3
   },
   "file_extension": ".py",
   "mimetype": "text/x-python",
   "name": "python",
   "nbconvert_exporter": "python",
   "pygments_lexer": "ipython3",
   "version": "3.8.8"
  }
 },
 "nbformat": 4,
 "nbformat_minor": 5
}
