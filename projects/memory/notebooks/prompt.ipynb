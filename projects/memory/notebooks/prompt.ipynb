{
 "cells": [
  {
   "cell_type": "code",
   "execution_count": 1,
   "metadata": {},
   "outputs": [
    {
     "data": {
      "application/vnd.jupyter.widget-view+json": {
       "model_id": "6e3aecdd27d847fb9e3c682a2915657a",
       "version_major": 2,
       "version_minor": 0
      },
      "text/plain": [
       "Downloading:   0%|          | 0.00/773k [00:00<?, ?B/s]"
      ]
     },
     "metadata": {},
     "output_type": "display_data"
    },
    {
     "data": {
      "application/vnd.jupyter.widget-view+json": {
       "model_id": "d307530629394ffcbe7c65308a6943b6",
       "version_major": 2,
       "version_minor": 0
      },
      "text/plain": [
       "Downloading:   0%|          | 0.00/1.74k [00:00<?, ?B/s]"
      ]
     },
     "metadata": {},
     "output_type": "display_data"
    },
    {
     "data": {
      "application/vnd.jupyter.widget-view+json": {
       "model_id": "e4e2460f54724e64b5de85985d8e45e4",
       "version_major": 2,
       "version_minor": 0
      },
      "text/plain": [
       "Downloading:   0%|          | 0.00/1.81k [00:00<?, ?B/s]"
      ]
     },
     "metadata": {},
     "output_type": "display_data"
    },
    {
     "data": {
      "application/vnd.jupyter.widget-view+json": {
       "model_id": "b020df32b6a440e28d589da4a5668401",
       "version_major": 2,
       "version_minor": 0
      },
      "text/plain": [
       "Downloading:   0%|          | 0.00/674 [00:00<?, ?B/s]"
      ]
     },
     "metadata": {},
     "output_type": "display_data"
    },
    {
     "data": {
      "application/vnd.jupyter.widget-view+json": {
       "model_id": "05fc243b19104c6f9bc12dda179dd7bd",
       "version_major": 2,
       "version_minor": 0
      },
      "text/plain": [
       "Downloading:   0%|          | 0.00/945M [00:00<?, ?B/s]"
      ]
     },
     "metadata": {},
     "output_type": "display_data"
    }
   ],
   "source": [
    "import os\n",
    "\n",
    "os.environ[\"CUDA_VISIBLE_DEVICES\"] = \"\"\n",
    "\n",
    "from transformers import T5Tokenizer, T5ForConditionalGeneration\n",
    "\n",
    "tokenizer = T5Tokenizer.from_pretrained(\"tscholak/t5.1.1.lm100k.base\")\n",
    "model = T5ForConditionalGeneration.from_pretrained(\"tscholak/t5.1.1.lm100k.base\")\n",
    "\n",
    "\n",
    "# We want to do this but this is too big. Tae'll run your prompts on a beefy server later.\n",
    "# tokenizer = AutoTokenizer.from_pretrained(\"bigscience/T0pp\")\n",
    "# model = AutoModelForSeq2SeqLM.from_pretrained(\"bigscience/T0pp\")"
   ]
  },
  {
   "cell_type": "code",
   "execution_count": 5,
   "metadata": {},
   "outputs": [
    {
     "name": "stdout",
     "output_type": "stream",
     "text": [
      "[\"James's laptop was in James's room 5 days ago. Linda's laptop was on her desk 3 days ago. Michael's shoe was in his room yesterday. David's laptop is in his garage today. Generally laptops are located on the desks. Where is David's laptop?\"]\n"
     ]
    }
   ],
   "source": [
    "prompts = []\n",
    "answers = []\n",
    "\n",
    "prompts.append(\n",
    "    \"James's laptop was in James's room 5 days ago. \"\n",
    "    \"Linda's laptop was on her desk 3 days ago. \"\n",
    "    \"Michael's shoe was in his room yesterday. \"\n",
    "    \"David's laptop is in his garage today. \"\n",
    "    \"Generally laptops are located on the desks. \"\n",
    "    \"Where is David's laptop?\"\n",
    ")\n",
    "answers.append(\"garage\")\n",
    "\n",
    "print(prompts)\n",
    "\n",
    "\n",
    "prompts.append(\n",
    "    \"Most laptops can be found on the desks. \"\n",
    "    \"James's laptop was in James’s room 5 days ago. \"\n",
    "    \"Linda's laptop was on her desk 3 days ago. \"\n",
    "    \"Michael's shoe was in his room yesterday. \"\n",
    "    \"David's laptop is in his garage today. \"\n",
    "    \"Where is James's laptop?\"\n",
    ")\n",
    "answers.append(\"room\")\n",
    "\n",
    "prompts.append(\n",
    "    \"Most laptops can be found on the desks. \"\n",
    "    \"James's laptop was in James’s room 5 days ago. \"\n",
    "    \"Linda's laptop was on her desk 3 days ago. \"\n",
    "    \"Michael's shoe was in his room yesterday. \"\n",
    "    \"David's laptop is in his garage today. \"\n",
    "    \"Where is Rachel's laptop?\"\n",
    ")\n",
    "answers.append(\"desk\")"
   ]
  },
  {
   "cell_type": "code",
   "execution_count": 3,
   "metadata": {},
   "outputs": [
    {
     "name": "stdout",
     "output_type": "stream",
     "text": [
      "Is David's laptop in his garage?\n",
      "James's laptop was in James's room 5 days ago. Linda's laptop was\n",
      "Is there a laptop in the room?\n"
     ]
    }
   ],
   "source": [
    "predictions = []\n",
    "\n",
    "for prompt in prompts:\n",
    "    input_ids = tokenizer(prompt, return_tensors=\"pt\").input_ids\n",
    "    outputs = model.generate(input_ids)\n",
    "    prediction = tokenizer.decode(outputs[0], skip_special_tokens=True)\n",
    "    print(prediction)\n",
    "    predictions.append(prediction)"
   ]
  },
  {
   "cell_type": "code",
   "execution_count": 4,
   "metadata": {},
   "outputs": [
    {
     "name": "stdout",
     "output_type": "stream",
     "text": [
      "correct: 2\n",
      "wrong: 1\n",
      "accuracy is 0.6666666666666666\n"
     ]
    }
   ],
   "source": [
    "correct = 0\n",
    "wrong = 0\n",
    "for answer, pred in zip(answers, predictions):\n",
    "    if answer in pred:\n",
    "        correct += 1\n",
    "    else:\n",
    "        wrong += 1\n",
    "\n",
    "print(f\"correct: {correct}\\nwrong: {wrong}\")\n",
    "print(f\"accuracy is {correct / (correct+ wrong)}\")"
   ]
  },
  {
   "cell_type": "code",
   "execution_count": null,
   "metadata": {},
   "outputs": [],
   "source": []
  },
  {
   "cell_type": "code",
   "execution_count": null,
   "metadata": {},
   "outputs": [],
   "source": []
  },
  {
   "cell_type": "code",
   "execution_count": null,
   "metadata": {},
   "outputs": [],
   "source": []
  }
 ],
 "metadata": {
  "interpreter": {
   "hash": "7808f786822013b9d5984aa54e12ef6bec326a79c76c0a75cd22ab652610adbd"
  },
  "kernelspec": {
   "display_name": "Python 3 (ipykernel)",
   "language": "python",
   "name": "python3"
  },
  "language_info": {
   "codemirror_mode": {
    "name": "ipython",
    "version": 3
   },
   "file_extension": ".py",
   "mimetype": "text/x-python",
   "name": "python",
   "nbconvert_exporter": "python",
   "pygments_lexer": "ipython3",
   "version": "3.7.12"
  }
 },
 "nbformat": 4,
 "nbformat_minor": 2
}
