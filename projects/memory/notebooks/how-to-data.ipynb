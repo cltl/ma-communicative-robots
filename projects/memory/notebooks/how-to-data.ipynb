{
 "cells": [
  {
   "cell_type": "markdown",
   "metadata": {},
   "source": [
    "# How to data"
   ]
  },
  {
   "cell_type": "markdown",
   "metadata": {},
   "source": [
    "## Make sure to change your current directory to the repo root"
   ]
  },
  {
   "cell_type": "code",
   "execution_count": 4,
   "metadata": {},
   "outputs": [
    {
     "name": "stdout",
     "output_type": "stream",
     "text": [
      "/home/tk/repos/combots-2021-tae\n"
     ]
    }
   ],
   "source": [
    "%cd .."
   ]
  },
  {
   "cell_type": "markdown",
   "metadata": {},
   "source": [
    "## Declare some helper functions"
   ]
  },
  {
   "cell_type": "code",
   "execution_count": 85,
   "metadata": {},
   "outputs": [],
   "source": [
    "import json\n",
    "from glob import glob\n",
    "from tqdm.notebook import tqdm\n",
    "import os\n",
    "import random\n",
    "\n",
    "def read_json(path):\n",
    "    \"\"\"Read json file.\n",
    "    \n",
    "    Args\n",
    "    ----\n",
    "    path: path to the json\n",
    "\n",
    "    Returns\n",
    "    -------\n",
    "    loaded: loaded dict\n",
    "    \n",
    "    \"\"\"\n",
    "    with open(path, 'r') as stream:\n",
    "        loaded = json.load(stream)\n",
    "\n",
    "    return loaded"
   ]
  },
  {
   "cell_type": "markdown",
   "metadata": {},
   "source": [
    "## Load all of the data to `data_all`\n",
    "\n",
    "The filenames are named as `<maximum_history>_<memory_capacity>.json`"
   ]
  },
  {
   "cell_type": "code",
   "execution_count": 84,
   "metadata": {},
   "outputs": [
    {
     "data": {
      "application/vnd.jupyter.widget-view+json": {
       "model_id": "610eed7389fa481591630b2b2dadd15a",
       "version_major": 2,
       "version_minor": 0
      },
      "text/plain": [
       "  0%|          | 0/7 [00:00<?, ?it/s]"
      ]
     },
     "metadata": {},
     "output_type": "display_data"
    },
    {
     "name": "stdout",
     "output_type": "stream",
     "text": [
      "./data/128_8.json \t ['train', 'val', 'test', 'max_history', 'capacity', 'rewards', 'accuracy']\n",
      "maximum_history: 128\n",
      "memory_capacity per system: 8\n",
      "\n",
      "./data/128_64.json \t ['train', 'val', 'test', 'max_history', 'capacity', 'rewards', 'accuracy']\n",
      "maximum_history: 128\n",
      "memory_capacity per system: 64\n",
      "\n",
      "./data/128_4.json \t ['train', 'val', 'test', 'max_history', 'capacity', 'rewards', 'accuracy']\n",
      "maximum_history: 128\n",
      "memory_capacity per system: 4\n",
      "\n",
      "./data/128_32.json \t ['train', 'val', 'test', 'max_history', 'capacity', 'rewards', 'accuracy']\n",
      "maximum_history: 128\n",
      "memory_capacity per system: 32\n",
      "\n",
      "./data/128_1.json \t ['train', 'val', 'test', 'max_history', 'capacity', 'rewards', 'accuracy']\n",
      "maximum_history: 128\n",
      "memory_capacity per system: 1\n",
      "\n",
      "./data/128_16.json \t ['train', 'val', 'test', 'max_history', 'capacity', 'rewards', 'accuracy']\n",
      "maximum_history: 128\n",
      "memory_capacity per system: 16\n",
      "\n",
      "./data/128_2.json \t ['train', 'val', 'test', 'max_history', 'capacity', 'rewards', 'accuracy']\n",
      "maximum_history: 128\n",
      "memory_capacity per system: 2\n",
      "\n"
     ]
    }
   ],
   "source": [
    "data_all = {}\n",
    "\n",
    "for path in tqdm(glob(\"./data/*.json\")):\n",
    "    data = read_json(path)\n",
    "\n",
    "    print(path, \"\\t\", list(data.keys()))\n",
    "    data_all[path] = data\n",
    "\n",
    "    maximum_history = os.path.basename(path).split(\"_\")[0]\n",
    "    memory_capacity = os.path.basename(path).split(\"_\")[1].split('.json')[0]\n",
    "\n",
    "    print(f\"maximum_history: {maximum_history}\\nmemory_capacity per system: {memory_capacity}\\n\")\n"
   ]
  },
  {
   "cell_type": "markdown",
   "metadata": {},
   "source": [
    "## Let's take a look at a random data point"
   ]
  },
  {
   "cell_type": "code",
   "execution_count": 76,
   "metadata": {},
   "outputs": [],
   "source": [
    "random_point = random.choice(data_all[\"./data/128_4.json\"][\"train\"])"
   ]
  },
  {
   "cell_type": "markdown",
   "metadata": {},
   "source": [
    "## This has five {key:value} pairs"
   ]
  },
  {
   "cell_type": "code",
   "execution_count": 77,
   "metadata": {},
   "outputs": [
    {
     "data": {
      "text/plain": [
       "['episodic_memory_system',\n",
       " 'semantic_memory_system',\n",
       " 'question',\n",
       " 'prediction_hand_crafted',\n",
       " 'correct_answer']"
      ]
     },
     "execution_count": 77,
     "metadata": {},
     "output_type": "execute_result"
    }
   ],
   "source": [
    "list(random_point.keys())"
   ]
  },
  {
   "cell_type": "markdown",
   "metadata": {},
   "source": [
    "## As you might have guessed, it's episodic memory system has four memories."
   ]
  },
  {
   "cell_type": "code",
   "execution_count": 78,
   "metadata": {},
   "outputs": [
    {
     "data": {
      "text/plain": [
       "[[\"Thomas's boat\", 'AtLocation', \"Thomas's wall\", 1637274176.0560422],\n",
       " [\"Thomas's oven\", 'AtLocation', \"Thomas's fair\", 1637274176.056181],\n",
       " [\"John's couch\", 'AtLocation', \"John's sewer\", 1637274176.056321],\n",
       " [\"Mary's broccoli\", 'AtLocation', \"Mary's plate\", 1637274176.0564616]]"
      ]
     },
     "execution_count": 78,
     "metadata": {},
     "output_type": "execute_result"
    }
   ],
   "source": [
    "random_point['episodic_memory_system']"
   ]
  },
  {
   "cell_type": "markdown",
   "metadata": {},
   "source": [
    "## It can also have maximum of four semantic memories in the semantic memory system.\n",
    "\n",
    "However, at this point there is only one memory saved."
   ]
  },
  {
   "cell_type": "code",
   "execution_count": 79,
   "metadata": {},
   "outputs": [
    {
     "data": {
      "text/plain": [
       "[['clock', 'AtLocation', 'desk', 2]]"
      ]
     },
     "execution_count": 79,
     "metadata": {},
     "output_type": "execute_result"
    }
   ],
   "source": [
    "random_point['semantic_memory_system']"
   ]
  },
  {
   "cell_type": "code",
   "execution_count": 80,
   "metadata": {},
   "outputs": [
    {
     "data": {
      "text/plain": [
       "[\"Karen's clock\", 'AtLocation']"
      ]
     },
     "execution_count": 80,
     "metadata": {},
     "output_type": "execute_result"
    }
   ],
   "source": [
    "random_point['question']"
   ]
  },
  {
   "cell_type": "markdown",
   "metadata": {},
   "source": [
    "## Make a creative natural language prompt using the two memory systems and a question!"
   ]
  },
  {
   "cell_type": "code",
   "execution_count": 81,
   "metadata": {},
   "outputs": [
    {
     "data": {
      "text/plain": [
       "'cellar'"
      ]
     },
     "execution_count": 81,
     "metadata": {},
     "output_type": "execute_result"
    }
   ],
   "source": [
    "random_point['correct_answer']"
   ]
  },
  {
   "cell_type": "markdown",
   "metadata": {},
   "source": [
    "## `prediction_hand_crafted` is what Tae's hand-crafted model predicted.\n",
    "\n",
    "It doesn't match the answer!"
   ]
  },
  {
   "cell_type": "code",
   "execution_count": 82,
   "metadata": {},
   "outputs": [
    {
     "data": {
      "text/plain": [
       "'desk'"
      ]
     },
     "execution_count": 82,
     "metadata": {},
     "output_type": "execute_result"
    }
   ],
   "source": [
    "random_point['prediction_hand_crafted']"
   ]
  }
 ],
 "metadata": {
  "interpreter": {
   "hash": "7808f786822013b9d5984aa54e12ef6bec326a79c76c0a75cd22ab652610adbd"
  },
  "kernelspec": {
   "display_name": "Python 3.7.12 64-bit ('explicit-memory': virtualenv)",
   "language": "python",
   "name": "python3"
  },
  "language_info": {
   "codemirror_mode": {
    "name": "ipython",
    "version": 3
   },
   "file_extension": ".py",
   "mimetype": "text/x-python",
   "name": "python",
   "nbconvert_exporter": "python",
   "pygments_lexer": "ipython3",
   "version": "3.7.12"
  },
  "orig_nbformat": 4
 },
 "nbformat": 4,
 "nbformat_minor": 2
}
